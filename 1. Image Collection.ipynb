{
 "cells": [
  {
   "cell_type": "markdown",
   "metadata": {},
   "source": [
    "# 1. Import Dependencies"
   ]
  },
  {
   "cell_type": "code",
   "execution_count": 1,
   "metadata": {},
   "outputs": [
    {
     "name": "stdout",
     "output_type": "stream",
     "text": [
      "Looking in indexes: https://pypi.org/simple, https://www.piwheels.org/simple\n",
      "Collecting opencv-python\n",
      "  Downloading opencv_python-4.5.5.64-cp36-abi3-manylinux_2_17_aarch64.manylinux2014_aarch64.whl (39.2 MB)\n",
      "\u001b[2K     \u001b[38;2;114;156;31m━━━━━━━━━━━━━━━━━━━━━━━━━━━━━━━━━━━━━━━━\u001b[0m \u001b[32m39.2/39.2 MB\u001b[0m \u001b[31m3.0 MB/s\u001b[0m eta \u001b[36m0:00:00\u001b[0mm eta \u001b[36m0:00:01\u001b[0m[36m0:00:01\u001b[0m\n",
      "\u001b[?25hCollecting numpy>=1.19.3\n",
      "  Downloading numpy-1.21.5-cp37-cp37m-manylinux_2_17_aarch64.manylinux2014_aarch64.whl (13.0 MB)\n",
      "\u001b[2K     \u001b[38;2;114;156;31m━━━━━━━━━━━━━━━━━━━━━━━━━━━━━━━━━━━━━━━━\u001b[0m \u001b[32m13.0/13.0 MB\u001b[0m \u001b[31m5.2 MB/s\u001b[0m eta \u001b[36m0:00:00\u001b[0mm eta \u001b[36m0:00:01\u001b[0m[36m0:00:01\u001b[0m\n",
      "\u001b[?25hInstalling collected packages: numpy, opencv-python\n",
      "  Attempting uninstall: numpy\n",
      "    Found existing installation: numpy 1.16.2\n",
      "    Not uninstalling numpy at /usr/lib/python3/dist-packages, outside environment /home/pi/Desktop/TFODCourse/tfod\n",
      "    Can't uninstall 'numpy'. No files were found to uninstall.\n",
      "Successfully installed numpy-1.21.5 opencv-python-4.5.5.64\n"
     ]
    }
   ],
   "source": [
    "!pip install opencv-python"
   ]
  },
  {
   "cell_type": "code",
   "execution_count": 2,
   "metadata": {},
   "outputs": [],
   "source": [
    "# Import opencv\n",
    "import cv2 \n",
    "\n",
    "# Import uuid\n",
    "import uuid\n",
    "\n",
    "# Import Operating System\n",
    "import os\n",
    "\n",
    "# Import time\n",
    "import time"
   ]
  },
  {
   "cell_type": "markdown",
   "metadata": {},
   "source": [
    "# 2. Define Images to Collect"
   ]
  },
  {
   "cell_type": "code",
   "execution_count": 3,
   "metadata": {},
   "outputs": [],
   "source": [
    "labels = ['thumbsup', 'thumbsdown', 'thankyou', 'livelong']\n",
    "number_imgs = 5"
   ]
  },
  {
   "cell_type": "markdown",
   "metadata": {},
   "source": [
    "# 3. Setup Folders "
   ]
  },
  {
   "cell_type": "code",
   "execution_count": 4,
   "metadata": {},
   "outputs": [],
   "source": [
    "IMAGES_PATH = os.path.join('Tensorflow', 'workspace', 'images', 'collectedimages')"
   ]
  },
  {
   "cell_type": "code",
   "execution_count": 5,
   "metadata": {},
   "outputs": [],
   "source": [
    "if not os.path.exists(IMAGES_PATH):\n",
    "    if os.name == 'posix':\n",
    "        !mkdir -p {IMAGES_PATH}\n",
    "    if os.name == 'nt':\n",
    "         !mkdir {IMAGES_PATH}\n",
    "for label in labels:\n",
    "    path = os.path.join(IMAGES_PATH, label)\n",
    "    if not os.path.exists(path):\n",
    "        !mkdir {path}"
   ]
  },
  {
   "cell_type": "markdown",
   "metadata": {},
   "source": [
    "# 4. Capture Images"
   ]
  },
  {
   "cell_type": "code",
   "execution_count": 18,
   "metadata": {},
   "outputs": [
    {
     "name": "stdout",
     "output_type": "stream",
     "text": [
      "Collecting images for thumbsup\n",
      "Collecting image 0\n",
      "Collecting image 1\n",
      "Collecting image 2\n",
      "Collecting image 3\n",
      "Collecting image 4\n"
     ]
    }
   ],
   "source": [
    "for label in labels:\n",
    "    cap = cv2.VideoCapture(0)\n",
    "    print('Collecting images for {}'.format(label))\n",
    "    time.sleep(5)\n",
    "    for imgnum in range(number_imgs):\n",
    "        print('Collecting image {}'.format(imgnum))\n",
    "        ret, frame = cap.read()\n",
    "        imgname = os.path.join(IMAGES_PATH,label,label+'.'+'{}.jpg'.format(str(uuid.uuid1())))\n",
    "        cv2.imwrite(imgname, frame)\n",
    "        cv2.imshow('frame', frame)\n",
    "        time.sleep(2)\n",
    "\n",
    "        if cv2.waitKey(1) & 0xFF == ord('q'):\n",
    "            break\n",
    "cap.release()\n",
    "cv2.destroyAllWindows()"
   ]
  },
  {
   "cell_type": "markdown",
   "metadata": {},
   "source": [
    "# 5. Image Labelling"
   ]
  },
  {
   "cell_type": "code",
   "execution_count": 11,
   "metadata": {},
   "outputs": [
    {
     "name": "stdout",
     "output_type": "stream",
     "text": [
      "Reading package lists... Done\n",
      "Building dependency tree       \n",
      "Reading state information... Done\n",
      "The following packages were automatically installed and are no longer required:\n",
      "  libva-wayland2 python-colorzero\n",
      "Use 'sudo apt autoremove' to remove them.\n",
      "The following additional packages will be installed:\n",
      "  libqt5designer5 libqt5help5 libqt5test5 python3-pyqt5 python3-sip\n",
      "Suggested packages:\n",
      "  python3-pyqt5-dbg\n",
      "The following NEW packages will be installed:\n",
      "  libqt5designer5 libqt5help5 libqt5test5 pyqt5-dev-tools python3-pyqt5\n",
      "  python3-sip\n",
      "0 upgraded, 6 newly installed, 0 to remove and 0 not upgraded.\n",
      "Need to get 5,542 kB of archives.\n",
      "After this operation, 24.0 MB of additional disk space will be used.\n",
      "Get:1 http://deb.debian.org/debian buster/main arm64 libqt5designer5 arm64 5.11.3-4 [2,731 kB]\n",
      "Get:2 http://deb.debian.org/debian buster/main arm64 libqt5help5 arm64 5.11.3-4 [142 kB]\n",
      "Get:3 http://deb.debian.org/debian buster/main arm64 libqt5test5 arm64 5.11.3+dfsg1-1+deb10u4 [141 kB]\n",
      "Get:4 http://deb.debian.org/debian buster/main arm64 python3-sip arm64 4.19.14+dfsg-2 [168 kB]\n",
      "Get:5 http://deb.debian.org/debian buster/main arm64 python3-pyqt5 arm64 5.11.3+dfsg-1+b3 [2,177 kB]\n",
      "Get:6 http://deb.debian.org/debian buster/main arm64 pyqt5-dev-tools arm64 5.11.3+dfsg-1+b3 [183 kB]\n",
      "Fetched 5,542 kB in 2s (2,755 kB/s)  \n",
      "Selecting previously unselected package libqt5designer5:arm64.\n",
      "(Reading database ... 90933 files and directories currently installed.)\n",
      "Preparing to unpack .../0-libqt5designer5_5.11.3-4_arm64.deb ...\n",
      "Unpacking libqt5designer5:arm64 (5.11.3-4) ...\n",
      "Selecting previously unselected package libqt5help5:arm64.\n",
      "Preparing to unpack .../1-libqt5help5_5.11.3-4_arm64.deb ...\n",
      "Unpacking libqt5help5:arm64 (5.11.3-4) ...\n",
      "Selecting previously unselected package libqt5test5:arm64.\n",
      "Preparing to unpack .../2-libqt5test5_5.11.3+dfsg1-1+deb10u4_arm64.deb ...\n",
      "Unpacking libqt5test5:arm64 (5.11.3+dfsg1-1+deb10u4) ...\n",
      "Selecting previously unselected package python3-sip.\n",
      "Preparing to unpack .../3-python3-sip_4.19.14+dfsg-2_arm64.deb ...\n",
      "Unpacking python3-sip (4.19.14+dfsg-2) ...\n",
      "Selecting previously unselected package python3-pyqt5.\n",
      "Preparing to unpack .../4-python3-pyqt5_5.11.3+dfsg-1+b3_arm64.deb ...\n",
      "Unpacking python3-pyqt5 (5.11.3+dfsg-1+b3) ...\n",
      "Selecting previously unselected package pyqt5-dev-tools.\n",
      "Preparing to unpack .../5-pyqt5-dev-tools_5.11.3+dfsg-1+b3_arm64.deb ...\n",
      "Unpacking pyqt5-dev-tools (5.11.3+dfsg-1+b3) ...\n",
      "Setting up libqt5designer5:arm64 (5.11.3-4) ...\n",
      "Setting up libqt5help5:arm64 (5.11.3-4) ...\n",
      "Setting up libqt5test5:arm64 (5.11.3+dfsg1-1+deb10u4) ...\n",
      "Setting up python3-sip (4.19.14+dfsg-2) ...\n",
      "Setting up python3-pyqt5 (5.11.3+dfsg-1+b3) ...\n",
      "Setting up pyqt5-dev-tools (5.11.3+dfsg-1+b3) ...\n",
      "Processing triggers for man-db (2.8.5-2) ...\n",
      "Processing triggers for libc-bin (2.28-10+rpt2+rpi1) ...\n"
     ]
    }
   ],
   "source": [
    "!sudo apt-get -y install pyqt5-dev-tools "
   ]
  },
  {
   "cell_type": "code",
   "execution_count": 12,
   "metadata": {},
   "outputs": [],
   "source": [
    "LABELIMG_PATH = os.path.join('Tensorflow', 'labelimg')"
   ]
  },
  {
   "cell_type": "code",
   "execution_count": 7,
   "metadata": {},
   "outputs": [
    {
     "name": "stdout",
     "output_type": "stream",
     "text": [
      "Cloning into 'Tensorflow/labelimg'...\n",
      "remote: Enumerating objects: 1975, done.\u001b[K\n",
      "remote: Counting objects: 100% (214/214), done.\u001b[K\n",
      "remote: Compressing objects: 100% (145/145), done.\u001b[K\n",
      "remote: Total 1975 (delta 115), reused 131 (delta 61), pack-reused 1761\u001b[K\n",
      "Receiving objects: 100% (1975/1975), 232.85 MiB | 3.99 MiB/s, done.\n",
      "Resolving deltas: 100% (1163/1163), done.\n"
     ]
    }
   ],
   "source": [
    "if not os.path.exists(LABELIMG_PATH):\n",
    "    !mkdir {LABELIMG_PATH}\n",
    "    !git clone https://github.com/tzutalin/labelImg {LABELIMG_PATH}"
   ]
  },
  {
   "cell_type": "code",
   "execution_count": 14,
   "metadata": {},
   "outputs": [
    {
     "name": "stdout",
     "output_type": "stream",
     "text": [
      "pyrcc5 -o libs/resources.py resources.qrc\r\n"
     ]
    }
   ],
   "source": [
    "if os.name == 'posix':\n",
    "    !cd {LABELIMG_PATH} && make qt5py3\n",
    "if os.name =='nt':\n",
    "    !cd {LABELIMG_PATH} && pyrcc5 -o libs/resources.py resources.qrc"
   ]
  },
  {
   "cell_type": "code",
   "execution_count": 16,
   "metadata": {},
   "outputs": [
    {
     "name": "stdout",
     "output_type": "stream",
     "text": [
      "qt5ct: using qt5ct plugin\n",
      "qt5ct: D-Bus global menu: no\n"
     ]
    }
   ],
   "source": [
    "!cd {LABELIMG_PATH} && python labelImg.py"
   ]
  },
  {
   "cell_type": "markdown",
   "metadata": {},
   "source": [
    "# 6. Move them into a Training and Testing Partition"
   ]
  }
 ],
 "metadata": {
  "kernelspec": {
   "display_name": "tfod",
   "language": "python",
   "name": "tfod"
  },
  "language_info": {
   "codemirror_mode": {
    "name": "ipython",
    "version": 3
   },
   "file_extension": ".py",
   "mimetype": "text/x-python",
   "name": "python",
   "nbconvert_exporter": "python",
   "pygments_lexer": "ipython3",
   "version": "3.8.8"
  }
 },
 "nbformat": 4,
 "nbformat_minor": 2
}
